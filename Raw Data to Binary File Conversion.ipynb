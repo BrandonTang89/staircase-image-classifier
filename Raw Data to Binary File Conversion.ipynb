{
 "cells": [
  {
   "cell_type": "markdown",
   "metadata": {},
   "source": [
    "# Converting Raw Data (JPEG/PNG) into a Dataset\n",
    "\n",
    "1. Images are saved in x.pickle, labels (the name of the directory the images are in) are saved in y.pickle\n",
    "2. Both are save as Numpy Arrays\n",
    "3. x has a shape of (n, IMG_SIZE, IMG_SIZE, 1) where n is the total number of images\n",
    "4. y has a shape of n\n",
    "\n",
    "Data Directory File Structure:"
   ]
  },
  {
   "cell_type": "raw",
   "metadata": {},
   "source": [
    "DATADIR\n",
    "|\n",
    "---CATEGORIES[0]\n",
    "    |\n",
    "    ---IMG_1\n",
    "    ---IMG_2\n",
    "    ---IMG_3\n",
    "    ...\n",
    "    ---IMG_(n/k)\n",
    "|\n",
    "---CATEGORIES[1]\n",
    "|\n",
    "...\n",
    "|\n",
    "---CATEGORIES[k]"
   ]
  },
  {
   "cell_type": "markdown",
   "metadata": {},
   "source": [
    "## Static Variables and Initialising Directories"
   ]
  },
  {
   "cell_type": "code",
   "execution_count": 1,
   "metadata": {},
   "outputs": [],
   "source": [
    "import matplotlib.pyplot as plt, numpy as np \n",
    "import os, random, pickle\n",
    "import cv2                              #Image library\n",
    "from tqdm import tqdm                   #Progress bar library\n",
    "\n",
    "# directories\n",
    "DATADIR = \"dataset/stairs2\"\n",
    "CATEGORIES = [\"curved\", \"negative\", \"straight\"]\n",
    "\n",
    "# static variables\n",
    "IMG_SIZE = 299                           #Img of size (IMG_SIZE by IMG_SIZE)\n",
    "randseed = 21                           #Pseudo Random Number Generator Seed\n",
    "greyscale = True                        #Choose Whether to Convert RGB Image into GreyScale Image"
   ]
  },
  {
   "cell_type": "markdown",
   "metadata": {},
   "source": [
    "## Parsing Training Images"
   ]
  },
  {
   "cell_type": "code",
   "execution_count": 2,
   "metadata": {},
   "outputs": [
    {
     "name": "stderr",
     "output_type": "stream",
     "text": [
      "100%|██████████| 1178/1178 [00:01<00:00, 1006.68it/s]\n",
      "100%|██████████| 1063/1063 [00:02<00:00, 417.68it/s]\n",
      "100%|██████████| 912/912 [00:00<00:00, 980.63it/s] \n"
     ]
    }
   ],
   "source": [
    "training_data = []\n",
    "\n",
    "def create_training_data():\n",
    "    for class_num, category in enumerate(CATEGORIES):  \n",
    "\n",
    "        path = os.path.join(DATADIR,category)                   # Creating the file path\n",
    "        for img in tqdm(os.listdir(path)):                      # Iterate over each image per image file\n",
    "            try:\n",
    "                img_array = cv2.imread(os.path.join(path,img))  # Convert to array\n",
    "                new_array = cv2.resize(img_array, (IMG_SIZE, IMG_SIZE))  #Resize to normalize data size to N x N\n",
    "                training_data.append((new_array, class_num))    # Add this to our training_data\n",
    "            except:  # To keep output clean\n",
    "                pass\n",
    "            \n",
    "\n",
    "create_training_data()"
   ]
  },
  {
   "cell_type": "markdown",
   "metadata": {},
   "source": [
    "## Writing Training Images to Pickle Binary Files"
   ]
  },
  {
   "cell_type": "code",
   "execution_count": 3,
   "metadata": {},
   "outputs": [
    {
     "name": "stdout",
     "output_type": "stream",
     "text": [
      "Dataset Conversion Complete\n",
      "Number of Training Examples (M) 3147\n"
     ]
    }
   ],
   "source": [
    "#Random Shuffle Training Data\n",
    "random.seed(randseed)\n",
    "random.shuffle(training_data)\n",
    "\n",
    "#Write Training Data to Lists\n",
    "x = []\n",
    "y = []\n",
    "\n",
    "for img,label in training_data:\n",
    "    x.append(img)\n",
    "    y.append(label)\n",
    "\n",
    "#Converts RGB into Greyscale\n",
    "if greyscale == True:\n",
    "    x = np.array([np.average(i,2) for i in x])\n",
    "    x = np.resize(x,(len(x), IMG_SIZE, IMG_SIZE, 1))\n",
    "\n",
    "#Output to Pickle Files\n",
    "y = np.array(y)\n",
    "pickle_out = open(\"x.pickle\",\"wb\")\n",
    "pickle.dump(x, pickle_out)\n",
    "pickle_out.close()\n",
    "\n",
    "pickle_out = open(\"y.pickle\",\"wb\")\n",
    "pickle.dump(y, pickle_out)\n",
    "pickle_out.close()\n",
    "\n",
    "print(\"Dataset Conversion Complete\")\n",
    "print(\"Number of Training Examples (M)\", len(training_data))"
   ]
  },
  {
   "cell_type": "code",
   "execution_count": null,
   "metadata": {},
   "outputs": [],
   "source": []
  }
 ],
 "metadata": {
  "kernelspec": {
   "display_name": "Python 3",
   "language": "python",
   "name": "python3"
  },
  "language_info": {
   "codemirror_mode": {
    "name": "ipython",
    "version": 3
   },
   "file_extension": ".py",
   "mimetype": "text/x-python",
   "name": "python",
   "nbconvert_exporter": "python",
   "pygments_lexer": "ipython3",
   "version": "3.6.7"
  }
 },
 "nbformat": 4,
 "nbformat_minor": 2
}
